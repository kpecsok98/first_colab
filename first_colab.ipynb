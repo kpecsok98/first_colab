{
  "nbformat": 4,
  "nbformat_minor": 0,
  "metadata": {
    "colab": {
      "name": "first_colab.ipynb",
      "provenance": [],
      "authorship_tag": "ABX9TyPI5Ma16TaBhQ3E6hp3kh1r",
      "include_colab_link": true
    },
    "kernelspec": {
      "name": "python3",
      "display_name": "Python 3"
    }
  },
  "cells": [
    {
      "cell_type": "markdown",
      "metadata": {
        "id": "view-in-github",
        "colab_type": "text"
      },
      "source": [
        "<a href=\"https://colab.research.google.com/github/kpecsok98/first_colab/blob/master/first_colab.ipynb\" target=\"_parent\"><img src=\"https://colab.research.google.com/assets/colab-badge.svg\" alt=\"Open In Colab\"/></a>"
      ]
    },
    {
      "cell_type": "code",
      "metadata": {
        "id": "mxPirtkgi_ES",
        "colab_type": "code",
        "colab": {}
      },
      "source": [
        "# This is one of my first assignments for my Python course. This is simply a test and not the real thing."
      ],
      "execution_count": null,
      "outputs": []
    }
  ]
}